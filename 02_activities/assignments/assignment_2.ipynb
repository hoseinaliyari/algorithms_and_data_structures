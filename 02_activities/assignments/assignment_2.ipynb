{
 "cells": [
  {
   "cell_type": "markdown",
   "metadata": {},
   "source": [
    "# Practice Interview\n",
    "\n",
    "## Objective\n",
    "\n",
    "_*The partner assignment aims to provide participants with the opportunity to practice coding in an interview context. You will analyze your partner's Assignment 1. Moreover, code reviews are common practice in a software development team. This assignment should give you a taste of the code review process.*_\n",
    "\n",
    "## Group Size\n",
    "\n",
    "Each group should have 2 people. You will be assigned a partner\n",
    "\n",
    "## Part 1:\n",
    "\n",
    "You and your partner must share each other's Assignment 1 submission."
   ]
  },
  {
   "cell_type": "markdown",
   "metadata": {},
   "source": [
    "\n",
    "## Part 2:\n",
    "\n",
    "Create a Jupyter Notebook, create 6 of the following headings, and complete the following for your partner's assignment 1:\n",
    "\n",
    "-   Paraphrase the problem in your own words.\n"
   ]
  },
  {
   "cell_type": "code",
   "execution_count": null,
   "metadata": {},
   "outputs": [],
   "source": [
    "\"\"\"\n",
    "given the root of a binary tree, return the value of a possible duplicate, closest to the root (starting element), if there is none, return -1.\n",
    "\n",
    "\"\"\""
   ]
  },
  {
   "cell_type": "markdown",
   "metadata": {},
   "source": [
    "\n",
    "-   Create 1 new example that demonstrates you understand the problem. Trace/walkthrough 1 example that your partner made and explain it.\n"
   ]
  },
  {
   "cell_type": "code",
   "execution_count": null,
   "metadata": {},
   "outputs": [],
   "source": [
    "\"\"\"\n",
    "\n",
    "Example_mine = {\n",
    "\"input\" : [1,3,4,5,4,7,7],\n",
    "\"output\" : 4\n",
    "}\n",
    "\n",
    "Example_partner = {\n",
    "\"input\" : [1,2,3,4,41,6,41]\n",
    "\"output\" : 41\n",
    "}\n",
    "\n",
    "they have used a class to demonstrate the tree, there is only a duplicate, 41, and that should\n",
    "be returned, which it was.\n",
    "\"\"\""
   ]
  },
  {
   "cell_type": "markdown",
   "metadata": {},
   "source": [
    "\n",
    "-   Copy the solution your partner wrote. \n"
   ]
  },
  {
   "cell_type": "code",
   "execution_count": null,
   "metadata": {},
   "outputs": [],
   "source": [
    "from collections import deque\n",
    "\n",
    "class TreeNode(object):\n",
    "    def __init__(self, val = 0, left = None, right = None):\n",
    "        self.val = val\n",
    "        self.left = left\n",
    "        self.right = right\n",
    "\n",
    "def is_duplicate(root: TreeNode) -> int:\n",
    "    if root:\n",
    "        queue = deque([root])\n",
    "        visited = set()\n",
    "        \n",
    "        while queue:\n",
    "            node = queue.popleft()\n",
    "\n",
    "            if node.val in visited:\n",
    "                return node.val\n",
    "            visited.add(node.val)\n",
    "\n",
    "            if node.left:\n",
    "                queue.append(node.left)\n",
    "            if node.right:\n",
    "                queue.append(node.right)\n",
    "    \n",
    "    return -1"
   ]
  },
  {
   "cell_type": "markdown",
   "metadata": {},
   "source": [
    "\n",
    "-   Explain why their solution works in your own words.\n"
   ]
  },
  {
   "cell_type": "code",
   "execution_count": null,
   "metadata": {},
   "outputs": [],
   "source": [
    "\"\"\" \n",
    "we all know the order of the lines of code is not as the order of the thought process. By that I mean, one might see \n",
    "their second if statement and say: \"visited is empty, why they are checking it?\", where it actually becomes important \n",
    "in future iteration and not the first one. Anyways, here is their thought process, probably:\n",
    "\"I need to use BFS (also the traversal method the tree was constructed with), visit node, add its children\n",
    "to the queue, visit left, visit right and so on. I also have to keep track of visited nodes to be able to\n",
    "identify a repetition.\"\n",
    "it would be better if I add comments to their code demonstrating my understanding of their solution\n",
    "\"\"\"\n",
    "\n",
    "def is_duplicate(root: TreeNode) -> int:\n",
    "    if root:                                    # make sure the root is not empty, if it is, we don't have duplicates, return -1\n",
    "        queue = deque([root])                   # creat a queue, pass the root as the first element\n",
    "        visited = set()                         # creat a set to keep track of visited nodes\n",
    "        \n",
    "        while queue:                            # check if queue is not empty, if it is and we haven't resulted in any other outcome, the outcome is no duplicate, return -1\n",
    "            node = queue.popleft()              # assign the left element of the queue to variable node, and remove it from the queue (pop)\n",
    "\n",
    "            if node.val in visited:             # check if current value exist in the set, meaning a duplicate is found\n",
    "                return node.val                 # return the value of the duplicate\n",
    "            visited.add(node.val)               # add the node to the visited list\n",
    "\n",
    "            if node.left:                       # add left and right nodes to the queue\n",
    "                queue.append(node.left)\n",
    "            if node.right:\n",
    "                queue.append(node.right)\n",
    "    \n",
    "    return -1                                   # return -1, the root is empty or there has been no duplicates, if it was, first return statement would have catched  "
   ]
  },
  {
   "cell_type": "markdown",
   "metadata": {},
   "source": [
    "\n",
    "-   Explain the problem’s time and space complexity in your own words.\n"
   ]
  },
  {
   "cell_type": "code",
   "execution_count": null,
   "metadata": {},
   "outputs": [],
   "source": [
    "\"\"\"\n",
    "time is O(n), as we go through elements in a simple loop. it is not actually a loop (like for or while), we are using the definition of the tree which is a recursive one.\n",
    "space is O(n) as well (actually O(2n) as there are two entities being recorded), and we are not creating any more variables in a nested manner.\n",
    "\n",
    "\"\"\""
   ]
  },
  {
   "cell_type": "markdown",
   "metadata": {},
   "source": [
    "\n",
    "-   Critique your partner's solution, including explanation, and if there is anything that should be adjusted.\n"
   ]
  },
  {
   "cell_type": "code",
   "execution_count": null,
   "metadata": {},
   "outputs": [],
   "source": [
    "\"\"\"\n",
    "The solution is correct (partialy I guess) and concise, good job Olga!\n",
    "\n",
    "but there is two suggestion I can think of:\n",
    "1) I, myself, am guilty of this and that is now that I am trying to see someone else's code, the importance of adding comments to your code is showing itself.\n",
    "\n",
    "2) Olga could have also explained: \"why is that we didn't need to worry about multiple duplicates? we didn't check for them.\"\n",
    "and the answer to this could be that, the way that tree is constructed and also it being a binary one, ensures that the first instance of duplicity is the closest the root as well?\n",
    "let's see:\n",
    "\n",
    "[...,a,b,c,...]\n",
    "as we have constructed in a Bread-First way, a, b and c are either in a same depth, or their depth increases in order of their appearance.\n",
    "\n",
    "[...,X,X,Y,Y,...]\n",
    "[...,X,Y,X,Y,...]\n",
    "these scenario could POSSIBLY result in wrong answer, if Y was closer to the root. This won't happen as stated above, Y can't be at a higher level than X.\n",
    "At best, each pair of X and Y are at the same depth , meaning both X and Y are the correct answers and returing one of them, which is X, is not incorrect.\n",
    "(the question didn't ask us to catch this, but it would have been better if we did to have a more robust algorithm)\n",
    "\n",
    "[...,X,Y,Y,X]\n",
    "this is last scenario that COULD BE problematic. let's say Y's are both a child to X, and the second X belongs to way lower depth, now Y would be reported as the closest duplicate as it \n",
    "would trigger the if statement first. Now, the correctness of this output highly depends on the explanation of the question, which based on the current one IS WRONG. \n",
    "First X is closest to the root, though its mate appears after (lower depth) compared to those Ys.\n",
    "\n",
    "\n",
    "\"\"\""
   ]
  },
  {
   "cell_type": "markdown",
   "metadata": {},
   "source": [
    "\n",
    "## Part 3:\n",
    "\n",
    "Please write a 200 word reflection documenting your process from assignment 1, and your presentation and review experience with your partner at the bottom of the Jupyter Notebook under a new heading \"Reflection.\" Again, export this Notebook as pdf.\n"
   ]
  },
  {
   "cell_type": "markdown",
   "metadata": {},
   "source": [
    "### Reflection"
   ]
  },
  {
   "cell_type": "code",
   "execution_count": null,
   "metadata": {},
   "outputs": [],
   "source": [
    "\"\"\"\n",
    "first of all, when I looked up the repository of my assigned partner, Olga, I noticed that she has submitted her assignment-2 and it wasn't mine that she has evaluated.\n",
    "\n",
    "as I have already addressed most of points this part is asking for in the previous one, I will do a wrap up here.\n",
    "\n",
    "My assignment:\n",
    "Missing my partner's review on my work, I can only share my own idea of my assignment. I tried to use comments for explaining my approach to the reader for it to \n",
    "be easier to be followed. Also for the extra examples, I included the -1 output scenario which was missing in the provided examples of the question, to test all of the cases. And finally, \n",
    "provided an alternative solution to the problem.\n",
    "\n",
    "Olga's: \n",
    "As mentioned, their approach is concise and tidy. the commentary is missing which adds a layer of difficulty to follow their work. This, In a team settin, is really crucial as the time\n",
    "(yours and your coleauges') is a valued asset.\n",
    "Her explanation of time complexity, is a little vague to me, but space complexity is well addressed.\n",
    "and finally, I read their alternative solution numerous times but couldn't fully understand it. I doubt that using stack might work here. using inorder search we might have [...,X,X,Y,Y,...]\n",
    "these Ys can be of a higher depth on the other branch, being closer to the root and consequently the right answer, but appear later because of our traversal method.\n",
    "\n",
    "\"\"\""
   ]
  },
  {
   "cell_type": "markdown",
   "metadata": {},
   "source": [
    "\n",
    "## Evaluation Criteria\n",
    "\n",
    "We are looking for the similar points as Assignment 1\n",
    "\n",
    "-   Problem is accurately stated\n",
    "\n",
    "-   New example is correct and easily understandable\n",
    "\n",
    "-   Correctness, time, and space complexity of the coding solution\n",
    "\n",
    "-   Clarity in explaining why the solution works, its time and space complexity\n",
    "\n",
    "-   Quality of critique of your partner's assignment, if necessary\n"
   ]
  },
  {
   "cell_type": "markdown",
   "metadata": {},
   "source": [
    "## Submission Information\n",
    "\n",
    "🚨 **Please review our [Assignment Submission Guide](https://github.com/UofT-DSI/onboarding/blob/main/onboarding_documents/submissions.md)** 🚨 for detailed instructions on how to format, branch, and submit your work. Following these guidelines is crucial for your submissions to be evaluated correctly.\n",
    "\n",
    "### Submission Parameters:\n",
    "* Submission Due Date: `HH:MM AM/PM - DD/MM/YYYY`\n",
    "* The branch name for your repo should be: `assignment-2`\n",
    "* What to submit for this assignment:\n",
    "    * This Jupyter Notebook (assignment_2.ipynb) should be populated and should be the only change in your pull request.\n",
    "* What the pull request link should look like for this assignment: `https://github.com/<your_github_username>/algorithms_and_data_structures/pull/<pr_id>`\n",
    "    * Open a private window in your browser. Copy and paste the link to your pull request into the address bar. Make sure you can see your pull request properly. This helps the technical facilitator and learning support staff review your submission easily.\n",
    "\n",
    "Checklist:\n",
    "- [ ] Created a branch with the correct naming convention.\n",
    "- [ ] Ensured that the repository is public.\n",
    "- [ ] Reviewed the PR description guidelines and adhered to them.\n",
    "- [ ] Verify that the link is accessible in a private browser window.\n",
    "\n",
    "If you encounter any difficulties or have questions, please don't hesitate to reach out to our team via our Slack at `#cohort-3-help`. Our Technical Facilitators and Learning Support staff are here to help you navigate any challenges.\n"
   ]
  }
 ],
 "metadata": {
  "language_info": {
   "name": "python"
  }
 },
 "nbformat": 4,
 "nbformat_minor": 2
}
